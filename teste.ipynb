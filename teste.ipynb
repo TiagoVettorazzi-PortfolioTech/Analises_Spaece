{
 "cells": [
  {
   "cell_type": "code",
   "execution_count": 1,
   "id": "a70ce16f",
   "metadata": {},
   "outputs": [],
   "source": [
    "import pandas as pd\n",
    "\n",
    "xls = pd.ExcelFile('Planilhao_TCT_SPAECE_EF_2023_MT_240402-2 (1).xlsx')\n",
    "\n",
    "df = pd.DataFrame(xls.parse('ESCOLA'))\n",
    "\n",
    "df.columns = df.iloc[0]\n",
    "df = df[1:]\n",
    "\n",
    "# Remoção de Colunas 'CD_REDE','CD_ETAPA', 'CD_REGIONAL','CD_MUNICIPIO' 'CD_ESCOLA', manter apenas colunas com informações relevantes para análise de desempenho\n",
    "df = df.drop(['CD_REDE','CD_ETAPA', 'CD_REGIONAL','CD_MUNICIPIO', 'CD_ESCOLA'], axis=1)\n",
    "\n",
    "# Remover colunas completamente vazias (se existirem)\n",
    "df = df.dropna(axis=1, how='all')\n",
    "\n",
    "# Filtros para manter apenas os dados do 9º ano\n",
    "df_9ano = df[df['DC_ETAPA'] == 'ENSINO FUNDAMENTAL DE 9 ANOS - 9º ANO'].reset_index(drop=True)"
   ]
  },
  {
   "cell_type": "code",
   "execution_count": 2,
   "id": "66688696",
   "metadata": {},
   "outputs": [],
   "source": [
    "def selecionar_escola(df, nome_escola):\n",
    "    \"\"\"Filtra o DataFrame pela escola informada.\"\"\"\n",
    "    filtro = df_9ano['NM_ESCOLA'].str.contains(nome_escola, case=False, na=False)\n",
    "    df_filtrado = df_9ano[filtro].copy()\n",
    "    return df_filtrado"
   ]
  },
  {
   "cell_type": "code",
   "execution_count": null,
   "id": "d7fd012a",
   "metadata": {},
   "outputs": [],
   "source": [
    "seelcionar_escola('ESCOLA MUNICIPAL JOSEFA DA SILVA')"
   ]
  }
 ],
 "metadata": {
  "kernelspec": {
   "display_name": "spaecex (3.12.6)",
   "language": "python",
   "name": "python3"
  },
  "language_info": {
   "codemirror_mode": {
    "name": "ipython",
    "version": 3
   },
   "file_extension": ".py",
   "mimetype": "text/x-python",
   "name": "python",
   "nbconvert_exporter": "python",
   "pygments_lexer": "ipython3",
   "version": "3.12.6"
  }
 },
 "nbformat": 4,
 "nbformat_minor": 5
}
